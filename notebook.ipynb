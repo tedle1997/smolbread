{
 "cells": [
  {
   "cell_type": "code",
   "execution_count": null,
   "id": "setup-env",
   "metadata": {},
   "outputs": [],
   "source": [
    "import os\n",
    "os.environ[\"TRANSFORMERS_NO_FLEX\"] = \"1\"\n",
    "print('TRANSFORMERS_NO_FLEX set to:', os.environ[\"TRANSFORMERS_NO_FLEX\"])\n"
   ]
  },
  {
   "cell_type": "code",
   "execution_count": null,
   "id": "load-model",
   "metadata": {},
   "outputs": [],
   "source": [
    "from transformers import AutoModelForCausalLM, AutoTokenizer\n",
    "\n",
    "# Define model checkpoint and device (using CPU in Binder)\n",
    "checkpoint = \"HuggingFaceTB/SmolLM-135M\"\n",
    "device = \"cpu\"\n",
    "\n",
    "# Load tokenizer and model\n",
    "tokenizer = AutoTokenizer.from_pretrained(checkpoint)\n",
    "model = AutoModelForCausalLM.from_pretrained(checkpoint).to(device)\n",
    "\n",
    "# (Optional) Run a default example generation\n",
    "inputs = tokenizer.encode(\"def print_hello_world():\", return_tensors=\"pt\").to(device)\n",
    "outputs = model.generate(inputs, max_length=100)\n",
    "print(tokenizer.decode(outputs[0], skip_special_tokens=True))\n",
    "\n",
    "# Define a helper function to generate text from any prompt\n",
    "def generate_response(prompt, max_length=200):\n",
    "    inputs = tokenizer.encode(prompt, return_tensors='pt').to(device)\n",
    "    outputs = model.generate(inputs, max_length=max_length)\n",
    "    return tokenizer.decode(outputs[0], skip_special_tokens=True)\n",
    "\n",
    "# Example usage of the helper function\n",
    "print(generate_response(\"Hello, can you introduce yourself?\"))\n"
   ]
  }
 ],
 "metadata": {
  "kernelspec": {
   "display_name": "Python 3",
   "language": "python",
   "name": "python3"
  },
  "language_info": {
   "name": "python"
  }
 },
 "nbformat": 4,
 "nbformat_minor": 5
}
